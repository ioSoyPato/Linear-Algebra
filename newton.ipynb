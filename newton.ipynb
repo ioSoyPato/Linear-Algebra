{
 "cells": [
  {
   "cell_type": "code",
   "execution_count": 1,
   "id": "9ce843c2",
   "metadata": {},
   "outputs": [
    {
     "name": "stdout",
     "output_type": "stream",
     "text": [
      "Found solution: [0.89442719 0.89442719]\n"
     ]
    }
   ],
   "source": [
    "import numpy as np\n",
    "\n",
    "# Define the system of nonlinear equations F(x)\n",
    "def F(x):\n",
    "    # Equation 1\n",
    "    f1 = x[0]**2 + 4*x[1]**2 - 4\n",
    "    # Equation 2\n",
    "    f2 = 4*x[0]**2 + x[1]**2 - 4\n",
    "    return np.array([f1, f2])\n",
    "\n",
    "# Define the Jacobian matrix J(x)\n",
    "def J(x):\n",
    "    # Partial derivatives for Equation 1\n",
    "    j11 = 2*x[0]\n",
    "    j12 = 8*x[1]\n",
    "    # Partial derivatives for Equation 2\n",
    "    j21 = 8*x[0]\n",
    "    j22 = 2*x[1]\n",
    "    return np.array([[j11, j12], [j21, j22]])\n",
    "\n",
    "# Solve a linear system of equations using Gaussian elimination\n",
    "def solve_linear_system(A, b):\n",
    "    n = len(b)\n",
    "    \n",
    "    # Gaussian elimination\n",
    "    for i in range(n):\n",
    "        for j in range(i+1, n):\n",
    "            factor = A[j, i] / A[i, i]\n",
    "            A[j, i:] -= factor * A[i, i:]\n",
    "            b[j] -= factor * b[i]\n",
    "    \n",
    "    # Back-substitution\n",
    "    x = np.zeros(n)\n",
    "    for i in range(n-1, -1, -1):\n",
    "        x[i] = (b[i] - np.dot(A[i, i+1:], x[i+1:])) / A[i, i]\n",
    "    \n",
    "    return x\n",
    "\n",
    "# Implement the Newton's method for solving nonlinear equations\n",
    "def newton_method(initial_guess, tol=1e-6, max_iter=100):\n",
    "    x = initial_guess\n",
    "    \n",
    "    # Newton's method iterations\n",
    "    for k in range(max_iter):\n",
    "        Jx = J(x)\n",
    "        Fx = -F(x)\n",
    "        \n",
    "        # Solve the linear system Jx * Y = -Fx for Y\n",
    "        Y = solve_linear_system(Jx, Fx)\n",
    "        \n",
    "        # Update x using the solution Y\n",
    "        x = x + Y\n",
    "        \n",
    "        # Check for convergence\n",
    "        if np.linalg.norm(Y, np.inf) < tol:\n",
    "            break\n",
    "    \n",
    "    return x\n",
    "\n",
    "# Initial guess for the solution\n",
    "initial_guess = np.array([1.0, 1.0])\n",
    "\n",
    "# Use Newton's method to find the solution\n",
    "solution = newton_method(initial_guess)\n",
    "\n",
    "# Print the found solution\n",
    "print(\"Found solution:\", solution)\n"
   ]
  },
  {
   "cell_type": "code",
   "execution_count": null,
   "id": "45155547",
   "metadata": {},
   "outputs": [],
   "source": []
  }
 ],
 "metadata": {
  "kernelspec": {
   "display_name": "Python 3 (ipykernel)",
   "language": "python",
   "name": "python3"
  },
  "language_info": {
   "codemirror_mode": {
    "name": "ipython",
    "version": 3
   },
   "file_extension": ".py",
   "mimetype": "text/x-python",
   "name": "python",
   "nbconvert_exporter": "python",
   "pygments_lexer": "ipython3",
   "version": "3.10.9"
  }
 },
 "nbformat": 4,
 "nbformat_minor": 5
}
